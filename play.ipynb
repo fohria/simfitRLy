{
 "cells": [
  {
   "cell_type": "markdown",
   "id": "a668a6a1-e6da-4f08-8b79-fc2a84c11acd",
   "metadata": {},
   "source": [
    "## quick examples\n",
    "\n",
    "import may give warning from tqdm that you don't have proper widget support. doesn't matter unless you want fancy progress bars."
   ]
  },
  {
   "cell_type": "code",
   "execution_count": null,
   "id": "a5ec227c-ff59-4463-a53f-f2d5fe88f8bd",
   "metadata": {},
   "outputs": [],
   "source": [
    "import simfitrly as sf\n",
    "import pandas as pd\n",
    "import seaborn as sns\n",
    "\n",
    "# setup so plots look reasonably non-ugly\n",
    "sns.set(\n",
    "    rc={\n",
    "        \"figure.dpi\": 200,\n",
    "        \"figure.figsize\": (10, 6),\n",
    "        \"axes.facecolor\": \"#f0f0f0\",\n",
    "        \"grid.color\": \"#ccc\",\n",
    "    }\n",
    ")"
   ]
  },
  {
   "cell_type": "markdown",
   "id": "fe9dc6d5-aeea-4bc1-9481-ebf244ebbddb",
   "metadata": {},
   "source": [
    "### create a task\n",
    "\n",
    "create a task like below. you can pick between:\n",
    "\n",
    "- Bandit (standard 2 arm bandit with rewards 0/1)\n",
    "- ReversalBandit (2 arm bandit that will switch best arm)\n",
    "- WorthyBandit (2 decks of cards that can have rewards 1-10)\n",
    "- Shapetask (predict the next shape based on current/previous shapes)\n",
    "\n",
    "please see thesis document for more info on each task."
   ]
  },
  {
   "cell_type": "code",
   "execution_count": null,
   "id": "0f2adef1-62cd-4baf-be11-d0252444794f",
   "metadata": {},
   "outputs": [],
   "source": [
    "# create a new bandit where we do 100 arm pulls - trial count\n",
    "# left arm has 0.2 probability of reward, right arm has 0.7 reward probability\n",
    "task = sf.tasks.Bandit(arm1=0.2, arm2=0.7, trial_count=100)"
   ]
  },
  {
   "cell_type": "markdown",
   "id": "61b2416c-5298-4ad6-9470-bdb1a2f4529a",
   "metadata": {},
   "source": [
    "### create an agent\n",
    "\n",
    "there are multiple agents available, not all of them can play all tasks. two simple agents are:\n",
    "\n",
    "- QL (Q-learning)\n",
    "- RandomBias (picks an option at random, with a possible bias for one option)\n",
    "\n",
    "check the `simulate/agents` folder for more agents, and the thesis document for more elaborate descriptions"
   ]
  },
  {
   "cell_type": "code",
   "execution_count": null,
   "id": "4526e03e-7ec2-4f7e-afba-7e672f65e15b",
   "metadata": {},
   "outputs": [],
   "source": [
    "agent = sf.agents.QL()"
   ]
  },
  {
   "cell_type": "markdown",
   "id": "783fadcf-ee9d-451c-a2aa-7851cc4f0375",
   "metadata": {},
   "source": [
    "each agent has required parameter values, so above will give you an error if these are not provided, like below.\n",
    "\n",
    "the `QL` agent also has an optional `gamma` parameter for temporal discount, which is useful if multiple future steps are needed before a reward. for bandit tasks we usually get rewards immediately so only two parameters are necessary."
   ]
  },
  {
   "cell_type": "code",
   "execution_count": null,
   "id": "c278ccf4-bb59-4dce-9a09-1beb9ca40849",
   "metadata": {},
   "outputs": [],
   "source": [
    "agent = sf.agents.QL(alpha=0.3, beta=5)"
   ]
  },
  {
   "cell_type": "markdown",
   "id": "d9cf6a40-5bec-4391-afb8-81a6f58b5431",
   "metadata": {},
   "source": [
    "### play the task\n",
    "\n",
    "the agents have `play` functions that take the task object as input. if the agent can't play the particular task it should give you an error, otherwise it returns a dictionary with three keys: `actions`, `rewards`, `stimuli`. the values of each key is a numpy array with the actions taken on each trial, the rewards received, and stimuli encountered. The stimuli array will be filled with `None` if the task does not use stimuli, like most Bandit tasks."
   ]
  },
  {
   "cell_type": "code",
   "execution_count": null,
   "id": "e6c06fef-d2c6-4b9c-92a4-db59b7c4fda6",
   "metadata": {},
   "outputs": [],
   "source": [
    "agent.play(task)"
   ]
  },
  {
   "cell_type": "markdown",
   "id": "d3893766-1ebe-4753-a12e-3ae0abd71d22",
   "metadata": {},
   "source": [
    "### save results and create a tidy dataframe\n",
    "\n",
    "[tidy data](http://vita.had.co.nz/papers/tidy-data.html) is nice for later plotting of the results. we have a convenience function `tidy_dataframe` for this purpose. a nice future improvement would be to send the results dictionary into this function instead of separating actions, rewards and stimuli as of now."
   ]
  },
  {
   "cell_type": "code",
   "execution_count": null,
   "id": "8acc330b-df68-443f-ab01-8709d4e8a328",
   "metadata": {},
   "outputs": [],
   "source": [
    "results = agent.play(task)\n",
    "results = sf.utils.tidy_dataframe(\n",
    "    results[\"actions\"],\n",
    "    results[\"rewards\"],\n",
    "    results[\"stimuli\"],\n",
    "    agent,\n",
    "    task)\n",
    "results"
   ]
  },
  {
   "cell_type": "markdown",
   "id": "6b4cd691-6785-4a38-8242-be6d54c21495",
   "metadata": {},
   "source": [
    "### score the task\n",
    "\n",
    "each task has a built-in scoring function that calculates, well, relevant scores we can use to analyse the results.\n",
    "\n",
    "the current code may give a future warning from pandas, i've yet to look into what it entails. for now we can ignore it."
   ]
  },
  {
   "cell_type": "code",
   "execution_count": null,
   "id": "a3b9e558-634a-4814-bf17-d5d075d0688b",
   "metadata": {},
   "outputs": [],
   "source": [
    "scores = task.score_experiment(results)\n",
    "scores"
   ]
  },
  {
   "cell_type": "markdown",
   "id": "933188a2-d737-4e3f-8d30-476f80695bc7",
   "metadata": {},
   "source": [
    "### visualise result\n",
    "\n",
    "the score function above defines a correct choice as picking the arm with the highest reward probability. we can do a simple plot showing how the QL agent learns what arm is the best"
   ]
  },
  {
   "cell_type": "code",
   "execution_count": null,
   "id": "f48e7740-454d-4445-bb88-1cf0b258e539",
   "metadata": {},
   "outputs": [],
   "source": [
    "sns.lineplot(data=scores, x=\"trial\", y=\"correct\")"
   ]
  },
  {
   "cell_type": "markdown",
   "id": "ac9829f2-49e5-45c8-93c8-5062085c8ad5",
   "metadata": {},
   "source": [
    "### fit model to data and recover parameters\n",
    "\n",
    "using the data from above, we can fit the `QL` and `RandomBias` models (when fitting we use the term model instead of agent which we use when simulating) and see which one is more likely to have generated said data."
   ]
  },
  {
   "cell_type": "code",
   "execution_count": null,
   "id": "40a91166-e432-41b3-96b0-36aea5306aa2",
   "metadata": {
    "tags": []
   },
   "outputs": [],
   "source": [
    "ql2_model = sf.models.QL2()"
   ]
  },
  {
   "cell_type": "markdown",
   "id": "1d0ae608-c298-4bd6-a50d-c595b53b7306",
   "metadata": {},
   "source": [
    "the behavioural data we need are actions (choices) and rewards. we have those in our tidy dataframe from before.\n",
    "\n",
    "however, we use numba, a library that compiles python into C code, to speed up our fitting functions. numba is quite picky about types, and will complain if we give it pandas series. so we convert from pandas to numpy before using the fitting function.\n",
    "\n",
    "what happens in the `fit_bandit_mle` function is that based on just the actions and rewards data, we try to \"recover\" the true parameter values that we used when generating the data (or \"playing\" the task)."
   ]
  },
  {
   "cell_type": "code",
   "execution_count": null,
   "id": "239828dd-01d0-440a-abe4-37e532569d0d",
   "metadata": {},
   "outputs": [],
   "source": [
    "actions = results.action.to_numpy()\n",
    "rewards = results.reward.to_numpy()\n",
    "fit_result = ql2_model.fit_bandit_mle(actions, rewards)\n",
    "fit_result"
   ]
  },
  {
   "cell_type": "markdown",
   "id": "23890943-5c5d-4674-b5cd-3a2a569184f0",
   "metadata": {},
   "source": [
    "the returned object is the output of scipy's `minimize` function, where `fun` in our case is the returned log likelihood value and `x` is the estimated `alpha` and `beta` parameters (in that order).\n",
    "\n",
    "depending on the specific data generated above, these estimated parameters may or may not be close to the true parameters. my thesis (see link in the readme) discusses in depth why this kind of parameter value recovery is such a difficult problem.\n",
    "\n",
    "nevertheless, a good practice here is to visualise the distance in a plot. the true parameter combination is marked with an orange cross (because x marks the spot) and the estimated parameter values are represented by the blue circle."
   ]
  },
  {
   "cell_type": "code",
   "execution_count": null,
   "id": "6a1a070b-4e44-43b1-a804-a7061646129d",
   "metadata": {},
   "outputs": [],
   "source": [
    "plot_data = {\n",
    "    \"alpha\": [agent.alpha, fit_result.x[0]],\n",
    "    \"beta\": [agent.beta, fit_result.x[1]],\n",
    "    \"label\": [\"true\", \"estimated\"]\n",
    "}\n",
    "\n",
    "df = pd.DataFrame.from_dict(plot_data)\n",
    "fig = sns.scatterplot(data=df, x=\"alpha\", y=\"beta\", style=\"label\", hue=\"label\")"
   ]
  },
  {
   "cell_type": "markdown",
   "id": "8c8ba5a9-e6f2-430c-8b54-d650d73d4940",
   "metadata": {},
   "source": [
    "### fit multiple models and select best fit\n",
    "\n",
    "in the above example we know what model (agent) generated the data. but often we don't, and would like to fit multiple models and then compare how well they fit the data.\n",
    "\n",
    "to exemplify this we will now fit the `RandomBias` model to the same data, and then compare its fit to the ql2 model fit."
   ]
  },
  {
   "cell_type": "code",
   "execution_count": null,
   "id": "00613711-dea3-4123-bda2-d738b9162cdd",
   "metadata": {},
   "outputs": [],
   "source": [
    "randbias_model = sf.models.RandomBias()\n",
    "randbias_fit_result = randbias_model.fit_bandit_mle(actions, rewards)\n",
    "randbias_fit_result"
   ]
  },
  {
   "cell_type": "markdown",
   "id": "5a476c2c-7ee4-4a84-b5d1-f30dfa27a30c",
   "metadata": {},
   "source": [
    "the `RandomBias` model has one parameter, the bias for arm1 (\"left\") over arm2 (\"right\"). a bias value close to 0 means a bias towards left, close to 1 means a bias towards the right, and if the bias value is 0.5 it means it will pick each arm with equal probability.\n",
    "\n",
    "when we do not know what model has generated some data, a basic way of checking the fit result is to use the recovered parameter value and simulate the behaviour."
   ]
  },
  {
   "cell_type": "code",
   "execution_count": null,
   "id": "6f5f80e4-5c16-42a2-bb21-e7d73787f503",
   "metadata": {},
   "outputs": [],
   "source": [
    "random_agent = sf.agents.RandomBias(bias1=randbias_fit_result.x[0])\n",
    "random_play_result = random_agent.play(task)\n",
    "random_results = sf.utils.tidy_dataframe(\n",
    "    random_play_result[\"actions\"],\n",
    "    random_play_result[\"rewards\"],\n",
    "    random_play_result[\"stimuli\"],\n",
    "    random_agent,\n",
    "    task)\n",
    "random_scores = task.score_experiment(random_results)\n",
    "sns.lineplot(data=random_scores, x=\"trial\", y=\"correct\")"
   ]
  },
  {
   "cell_type": "markdown",
   "id": "b49b1b24-032e-4d0c-b7c4-80ba1934e17d",
   "metadata": {},
   "source": [
    "does this behaviour look similar to the previous plot from before? most likely not, but because all these algorithms are inherently random, it's not impossible the behaviour is similar.\n",
    "\n",
    "### compare likelihoods\n",
    "\n",
    "the more analytical way of comparing our fits is to compare the log likelihoods. we have used `mle` functions which is short for \"maximum likelihood\". the observant reader will note we mentioned a `minimize` function above. what this means is that the `fun` value in our fit result objects should switch signs.\n",
    "\n",
    "we collect our aquired simulation and fit data like so:"
   ]
  },
  {
   "cell_type": "code",
   "execution_count": null,
   "id": "8f08f578-057e-4236-93c4-b26d6865ac27",
   "metadata": {},
   "outputs": [],
   "source": [
    "# our tidy_mle function is built to accept multiple rows of fit results for data with multiple subjects\n",
    "# thus, we here create a nested array with just one row - one subject\n",
    "subject_id = 0\n",
    "\n",
    "ql_fitdata = [[subject_id, -fit_result.fun, fit_result.x[0], fit_result.x[1]]]\n",
    "ql_fitdata = sf.tidy_mle(fitdata=ql_fitdata, simdata=results, model=ql2_model)\n",
    "\n",
    "random_fitdata = [[subject_id, -randbias_fit_result.fun, randbias_fit_result.x[0]]]\n",
    "random_fitdata = sf.tidy_mle(fitdata=random_fitdata, simdata=results, model=randbias_model)\n",
    "\n",
    "fitdata = pd.concat([ql_fitdata, random_fitdata])\n",
    "fitdata"
   ]
  },
  {
   "cell_type": "markdown",
   "id": "c45a30f2-1c5a-41b4-917d-d6c84c8a62ea",
   "metadata": {},
   "source": [
    "comparing the likelihood values directly is possible, but not ideal. the more parameters a model has, the easier it is that it may overfit. one way of compensating for this is to use the Bayesian Information Criterion (BIC) which takes the number of parameters into account when calculating a new comparison value based on the likelihood. there are many alternatives to the BIC, and this is also subject to discussion in my phd thesis linked in the readme file.\n",
    "\n",
    "regardless, we can now compare our two models with the BIC value. the best fitting model is the one with the lowest such BIC value, so if we only print that column from our combined `fitdata` dataframe, we get:"
   ]
  },
  {
   "cell_type": "code",
   "execution_count": null,
   "id": "2316b374-028f-443e-891c-7faf77f10559",
   "metadata": {},
   "outputs": [],
   "source": [
    "fitdata[[\"model_name\",\"bic\"]]"
   ]
  },
  {
   "cell_type": "markdown",
   "id": "c6bb5b6a-9d1e-4ca5-b004-d7c0629e167e",
   "metadata": {},
   "source": [
    "was the correct model selected as the best fitting one?\n",
    "\n",
    "### to be continued\n",
    "\n",
    "this is just a small taste of what simfitRLy can do. there will be more examples in the future. for now, my next steps are to fix up the structure of the fit module and then create a pip/conda package, as well as implement tests and what nots to mayhaps make this into a \"proper\" python package."
   ]
  },
  {
   "cell_type": "code",
   "execution_count": null,
   "id": "78e5d6df-8814-41c0-830b-e9cdab1eec4a",
   "metadata": {},
   "outputs": [],
   "source": []
  }
 ],
 "metadata": {
  "kernelspec": {
   "display_name": "simfitRLy",
   "language": "python",
   "name": "simfitrly"
  },
  "language_info": {
   "codemirror_mode": {
    "name": "ipython",
    "version": 3
   },
   "file_extension": ".py",
   "mimetype": "text/x-python",
   "name": "python",
   "nbconvert_exporter": "python",
   "pygments_lexer": "ipython3",
   "version": "3.10.6"
  }
 },
 "nbformat": 4,
 "nbformat_minor": 5
}
